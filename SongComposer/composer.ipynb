{
 "cells": [
  {
   "cell_type": "code",
   "execution_count": null,
   "id": "22455340",
   "metadata": {},
   "outputs": [],
   "source": [
    "from transformers import AutoTokenizer, AutoModel"
   ]
  },
  {
   "cell_type": "code",
   "execution_count": null,
   "id": "43bd49ec",
   "metadata": {},
   "outputs": [],
   "source": [
    "checkpoint_path = \"Mar2Ding/songcomposer_sft\"\n",
    "tokenizer = AutoTokenizer.from_pretrained(checkpoint_path, trust_remote_code=True)\n",
    "model = AutoModel.from_pretrained(checkpoint_path, trust_remote_code=True)"
   ]
  },
  {
   "cell_type": "code",
   "execution_count": null,
   "id": "8a38bbb0",
   "metadata": {},
   "outputs": [],
   "source": [
    "import torch\n",
    "\n",
    "device = \"cuda\" if torch.cuda.is_available() else \"mps\" if torch.backends.mps.is_available() else \"cpu\"\n",
    "model.to(device)"
   ]
  },
  {
   "cell_type": "code",
   "execution_count": null,
   "id": "b882deda",
   "metadata": {},
   "outputs": [],
   "source": [
    "def generate_song(prompt, max_length=1000):\n",
    "    inputs = tokenizer(prompt, return_tensors=\"pt\").to(device)\n",
    "    outputs = model.generate(**inputs, max_length=max_length, pad_token_id=tokenizer.eos_token_id)\n",
    "    return tokenizer.decode(outputs[0], skip_special_tokens=True)"
   ]
  },
  {
   "cell_type": "code",
   "execution_count": null,
   "id": "97fec0fd",
   "metadata": {},
   "outputs": [],
   "source": [
    "prompt = input(\"Enter a prompt: \")\n",
    "song = generate_song(prompt)\n",
    "\n",
    "with open(\"melody.txt\", \"f\") as f:\n",
    "    f.write(song)\n",
    "    f.close()"
   ]
  }
 ],
 "metadata": {
  "kernelspec": {
   "display_name": "venv",
   "language": "python",
   "name": "python3"
  },
  "language_info": {
   "codemirror_mode": {
    "name": "ipython",
    "version": 3
   },
   "file_extension": ".py",
   "mimetype": "text/x-python",
   "name": "python",
   "nbconvert_exporter": "python",
   "pygments_lexer": "ipython3",
   "version": "3.11.13"
  }
 },
 "nbformat": 4,
 "nbformat_minor": 5
}
